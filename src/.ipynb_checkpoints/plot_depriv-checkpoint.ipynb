{
 "cells": [
  {
   "cell_type": "code",
   "execution_count": 4,
   "id": "a12b014d",
   "metadata": {},
   "outputs": [
    {
     "ename": "ModuleNotFoundError",
     "evalue": "No module named 'geopandas'",
     "output_type": "error",
     "traceback": [
      "\u001b[0;31m---------------------------------------------------------------------------\u001b[0m",
      "\u001b[0;31mModuleNotFoundError\u001b[0m                       Traceback (most recent call last)",
      "Input \u001b[0;32mIn [4]\u001b[0m, in \u001b[0;36m<cell line: 1>\u001b[0;34m()\u001b[0m\n\u001b[0;32m----> 1\u001b[0m \u001b[38;5;28;01mimport\u001b[39;00m \u001b[38;5;21;01mgeopandas\u001b[39;00m \u001b[38;5;28;01mas\u001b[39;00m \u001b[38;5;21;01mgpd\u001b[39;00m\n\u001b[1;32m      2\u001b[0m \u001b[38;5;28;01mimport\u001b[39;00m \u001b[38;5;21;01mnumpy\u001b[39;00m \u001b[38;5;28;01mas\u001b[39;00m \u001b[38;5;21;01mnp\u001b[39;00m\n\u001b[1;32m      3\u001b[0m \u001b[38;5;28;01mimport\u001b[39;00m \u001b[38;5;21;01mpandas\u001b[39;00m \u001b[38;5;28;01mas\u001b[39;00m \u001b[38;5;21;01mpd\u001b[39;00m\n",
      "\u001b[0;31mModuleNotFoundError\u001b[0m: No module named 'geopandas'"
     ]
    }
   ],
   "source": [
    "import geopandas as gpd\n",
    "import numpy as np\n",
    "import pandas as pd\n",
    "import folium"
   ]
  },
  {
   "cell_type": "code",
   "execution_count": 5,
   "id": "c4e46cf0",
   "metadata": {
    "scrolled": false
   },
   "outputs": [
    {
     "ename": "NameError",
     "evalue": "name 'gpd' is not defined",
     "output_type": "error",
     "traceback": [
      "\u001b[0;31m---------------------------------------------------------------------------\u001b[0m",
      "\u001b[0;31mNameError\u001b[0m                                 Traceback (most recent call last)",
      "Input \u001b[0;32mIn [5]\u001b[0m, in \u001b[0;36m<cell line: 2>\u001b[0;34m()\u001b[0m\n\u001b[1;32m      1\u001b[0m \u001b[38;5;66;03m# import gpkg file\u001b[39;00m\n\u001b[0;32m----> 2\u001b[0m depriv_df \u001b[38;5;241m=\u001b[39m \u001b[43mgpd\u001b[49m\u001b[38;5;241m.\u001b[39mread_file(\u001b[38;5;124m\"\u001b[39m\u001b[38;5;124m../data/depriv_processed.gpkg\u001b[39m\u001b[38;5;124m\"\u001b[39m)\n\u001b[1;32m      3\u001b[0m depriv_df\u001b[38;5;241m.\u001b[39mhead()\n",
      "\u001b[0;31mNameError\u001b[0m: name 'gpd' is not defined"
     ]
    }
   ],
   "source": [
    "# import gpkg file\n",
    "depriv_df = gpd.read_file(\"../data/depriv_processed.gpkg\")\n",
    "depriv_df.head()"
   ]
  },
  {
   "cell_type": "markdown",
   "id": "b6155d09",
   "metadata": {},
   "source": [
    "### Basic EDA (non-spatial)"
   ]
  },
  {
   "cell_type": "code",
   "execution_count": 133,
   "id": "e8c81627",
   "metadata": {},
   "outputs": [
    {
     "data": {
      "text/html": [
       "<div>\n",
       "<style scoped>\n",
       "    .dataframe tbody tr th:only-of-type {\n",
       "        vertical-align: middle;\n",
       "    }\n",
       "\n",
       "    .dataframe tbody tr th {\n",
       "        vertical-align: top;\n",
       "    }\n",
       "\n",
       "    .dataframe thead th {\n",
       "        text-align: right;\n",
       "    }\n",
       "</style>\n",
       "<table border=\"1\" class=\"dataframe\">\n",
       "  <thead>\n",
       "    <tr style=\"text-align: right;\">\n",
       "      <th></th>\n",
       "      <th>population</th>\n",
       "      <th>perc_depr_households</th>\n",
       "      <th>perc_pensioncredit</th>\n",
       "      <th>pop_density</th>\n",
       "    </tr>\n",
       "  </thead>\n",
       "  <tbody>\n",
       "    <tr>\n",
       "      <th>count</th>\n",
       "      <td>983.000000</td>\n",
       "      <td>983.000000</td>\n",
       "      <td>983.000000</td>\n",
       "      <td>983.000000</td>\n",
       "    </tr>\n",
       "    <tr>\n",
       "      <th>mean</th>\n",
       "      <td>8686.357070</td>\n",
       "      <td>19.008749</td>\n",
       "      <td>26.875178</td>\n",
       "      <td>0.008792</td>\n",
       "    </tr>\n",
       "    <tr>\n",
       "      <th>std</th>\n",
       "      <td>1634.481711</td>\n",
       "      <td>9.897630</td>\n",
       "      <td>13.000344</td>\n",
       "      <td>0.005218</td>\n",
       "    </tr>\n",
       "    <tr>\n",
       "      <th>min</th>\n",
       "      <td>5359.000000</td>\n",
       "      <td>1.100000</td>\n",
       "      <td>2.100000</td>\n",
       "      <td>0.000285</td>\n",
       "    </tr>\n",
       "    <tr>\n",
       "      <th>25%</th>\n",
       "      <td>7600.000000</td>\n",
       "      <td>10.650000</td>\n",
       "      <td>16.400000</td>\n",
       "      <td>0.004882</td>\n",
       "    </tr>\n",
       "    <tr>\n",
       "      <th>50%</th>\n",
       "      <td>8466.000000</td>\n",
       "      <td>18.100000</td>\n",
       "      <td>25.900000</td>\n",
       "      <td>0.007512</td>\n",
       "    </tr>\n",
       "    <tr>\n",
       "      <th>75%</th>\n",
       "      <td>9531.000000</td>\n",
       "      <td>25.800000</td>\n",
       "      <td>36.200000</td>\n",
       "      <td>0.012061</td>\n",
       "    </tr>\n",
       "    <tr>\n",
       "      <th>max</th>\n",
       "      <td>15867.000000</td>\n",
       "      <td>49.600000</td>\n",
       "      <td>83.600000</td>\n",
       "      <td>0.027894</td>\n",
       "    </tr>\n",
       "  </tbody>\n",
       "</table>\n",
       "</div>"
      ],
      "text/plain": [
       "         population  perc_depr_households  perc_pensioncredit  pop_density\n",
       "count    983.000000            983.000000          983.000000   983.000000\n",
       "mean    8686.357070             19.008749           26.875178     0.008792\n",
       "std     1634.481711              9.897630           13.000344     0.005218\n",
       "min     5359.000000              1.100000            2.100000     0.000285\n",
       "25%     7600.000000             10.650000           16.400000     0.004882\n",
       "50%     8466.000000             18.100000           25.900000     0.007512\n",
       "75%     9531.000000             25.800000           36.200000     0.012061\n",
       "max    15867.000000             49.600000           83.600000     0.027894"
      ]
     },
     "execution_count": 133,
     "metadata": {},
     "output_type": "execute_result"
    }
   ],
   "source": [
    "# overview of descriptive statistics\n",
    "depriv_df.describe()"
   ]
  },
  {
   "cell_type": "code",
   "execution_count": 134,
   "id": "5d52f739",
   "metadata": {},
   "outputs": [
    {
     "data": {
      "text/plain": [
       "<AxesSubplot:>"
      ]
     },
     "execution_count": 134,
     "metadata": {},
     "output_type": "execute_result"
    },
    {
     "data": {
      "image/png": "[encoded data removed]",
      "text/plain": [
       "<Figure size 640x480 with 1 Axes>"
      ]
     },
     "metadata": {},
     "output_type": "display_data"
    }
   ],
   "source": [
    "# histgram of the Deprivation Index in London (variable for map1)\n",
    "depriv_df[\"perc_depr_households\"].hist(bins=100, color='b')"
   ]
  },
  {
   "cell_type": "code",
   "execution_count": 135,
   "id": "38919c5d",
   "metadata": {},
   "outputs": [
    {
     "data": {
      "text/plain": [
       "<AxesSubplot:>"
      ]
     },
     "execution_count": 135,
     "metadata": {},
     "output_type": "execute_result"
    },
    {
     "data": {
      "image/png": "[encoded data removed]",
      "text/plain": [
       "<Figure size 640x480 with 1 Axes>"
      ]
     },
     "metadata": {},
     "output_type": "display_data"
    }
   ],
   "source": [
    "# histgram of the percentage of 60+ adults on pension credits in London (variable for map2)\n",
    "depriv_df[\"perc_pensioncredit\"].hist(bins=100, color='r')"
   ]
  },
  {
   "cell_type": "code",
   "execution_count": 136,
   "id": "85cf191e",
   "metadata": {},
   "outputs": [
    {
     "data": {
      "text/plain": [
       "<AxesSubplot:>"
      ]
     },
     "execution_count": 136,
     "metadata": {},
     "output_type": "execute_result"
    },
    {
     "data": {
      "image/png": "[encoded data removed]",
      "text/plain": [
       "<Figure size 640x480 with 1 Axes>"
      ]
     },
     "metadata": {},
     "output_type": "display_data"
    }
   ],
   "source": [
    "# histgram of the population density in London (variable for map1)\n",
    "depriv_df[\"pop_density\"].hist(bins=100, color='g')"
   ]
  },
  {
   "cell_type": "markdown",
   "id": "7a85cf79",
   "metadata": {},
   "source": [
    "### Data Processing"
   ]
  },
  {
   "cell_type": "code",
   "execution_count": 3,
   "id": "9266d492",
   "metadata": {},
   "outputs": [
    {
     "ename": "NameError",
     "evalue": "name 'depriv_df' is not defined",
     "output_type": "error",
     "traceback": [
      "\u001b[0;31m---------------------------------------------------------------------------\u001b[0m",
      "\u001b[0;31mNameError\u001b[0m                                 Traceback (most recent call last)",
      "Input \u001b[0;32mIn [3]\u001b[0m, in \u001b[0;36m<cell line: 2>\u001b[0;34m()\u001b[0m\n\u001b[1;32m      1\u001b[0m \u001b[38;5;66;03m# remove nulls (non-London MSOA)\u001b[39;00m\n\u001b[0;32m----> 2\u001b[0m depriv_df \u001b[38;5;241m=\u001b[39m \u001b[43mdepriv_df\u001b[49m[pd\u001b[38;5;241m.\u001b[39mnotnull(depriv_df[\u001b[38;5;124m\"\u001b[39m\u001b[38;5;124mmsoaname\u001b[39m\u001b[38;5;124m\"\u001b[39m])]\n\u001b[1;32m      4\u001b[0m \u001b[38;5;66;03m# multiple the population density by 1000 (pop/m -> pop/km)\u001b[39;00m\n\u001b[1;32m      5\u001b[0m depriv_df[\u001b[38;5;124m'\u001b[39m\u001b[38;5;124mpop_density\u001b[39m\u001b[38;5;124m'\u001b[39m] \u001b[38;5;241m*\u001b[39m\u001b[38;5;241m=\u001b[39m \u001b[38;5;241m1000\u001b[39m\n",
      "\u001b[0;31mNameError\u001b[0m: name 'depriv_df' is not defined"
     ]
    }
   ],
   "source": [
    "# remove nulls (non-London MSOA)\n",
    "depriv_df = depriv_df[pd.notnull(depriv_df[\"msoaname\"])]\n",
    "\n",
    "# multiple the population density by 1000 (pop/m -> pop/km)\n",
    "depriv_df['pop_density'] *= 1000\n",
    "\n",
    "# calculate bins for map1 (deprivation index) by 8-quantile\n",
    "bins_map1 = list(depriv_df['perc_depr_households'].quantile(np.linspace(0,1,9)))\n",
    "\n",
    "# calculate bins for map2 (percentage of 60+ years old population) by 8-quantile\n",
    "bins_map2 = list(depriv_df['perc_pensioncredit'].quantile(np.linspace(0,1,9)))\n",
    "\n",
    "# calculate bins for map3 (population density) by fixed range (definition referred to )\n",
    "bins_map3 = [2.5, 5.0, 7.5, 10.0]\n",
    "#bins_map3 = list(depriv_df['pop_density'].quantile(np.linspace(0,1,9)))"
   ]
  },
  {
   "cell_type": "markdown",
   "id": "4df15190",
   "metadata": {},
   "source": [
    "### Choropleths Creation"
   ]
  },
  {
   "cell_type": "code",
   "execution_count": 139,
   "id": "a5a2ce2a",
   "metadata": {},
   "outputs": [
    {
     "ename": "ValueError",
     "evalue": "All values are expected to fall into one of the provided bins (or to be Nan). Please check the `bins` parameter and/or your data.",
     "output_type": "error",
     "traceback": [
      "\u001b[0;31m---------------------------------------------------------------------------\u001b[0m",
      "\u001b[0;31mValueError\u001b[0m                                Traceback (most recent call last)",
      "\u001b[0;32m/var/folders/_n/l2f9tkgn3g17dj7hnsjprssc0000gn/T/ipykernel_65699/1082105467.py\u001b[0m in \u001b[0;36m<module>\u001b[0;34m\u001b[0m\n\u001b[1;32m     48\u001b[0m     \u001b[0mlegend_name\u001b[0m\u001b[0;34m=\u001b[0m\u001b[0;34m\"Population Density (k-people / km\\u00b2)\"\u001b[0m\u001b[0;34m,\u001b[0m\u001b[0;34m\u001b[0m\u001b[0;34m\u001b[0m\u001b[0m\n\u001b[1;32m     49\u001b[0m     \u001b[0mbins\u001b[0m \u001b[0;34m=\u001b[0m \u001b[0mbins_map3\u001b[0m\u001b[0;34m,\u001b[0m\u001b[0;34m\u001b[0m\u001b[0;34m\u001b[0m\u001b[0m\n\u001b[0;32m---> 50\u001b[0;31m     \u001b[0mreset\u001b[0m \u001b[0;34m=\u001b[0m \u001b[0;32mTrue\u001b[0m\u001b[0;34m\u001b[0m\u001b[0;34m\u001b[0m\u001b[0m\n\u001b[0m\u001b[1;32m     51\u001b[0m )\n\u001b[1;32m     52\u001b[0m \u001b[0;34m\u001b[0m\u001b[0m\n",
      "\u001b[0;32m~/opt/anaconda3/envs/gisenv/lib/python3.7/site-packages/folium/features.py\u001b[0m in \u001b[0;36m__init__\u001b[0;34m(self, geo_data, data, columns, key_on, bins, fill_color, nan_fill_color, fill_opacity, nan_fill_opacity, line_color, line_weight, line_opacity, name, legend_name, overlay, control, show, topojson, smooth_factor, highlight, **kwargs)\u001b[0m\n\u001b[1;32m   1218\u001b[0m             \u001b[0;32mif\u001b[0m \u001b[0mnp\u001b[0m\u001b[0;34m.\u001b[0m\u001b[0many\u001b[0m\u001b[0;34m(\u001b[0m\u001b[0;34m(\u001b[0m\u001b[0mreal_values\u001b[0m \u001b[0;34m<\u001b[0m \u001b[0mbins_min\u001b[0m\u001b[0;34m)\u001b[0m \u001b[0;34m|\u001b[0m \u001b[0;34m(\u001b[0m\u001b[0mreal_values\u001b[0m \u001b[0;34m>\u001b[0m \u001b[0mbins_max\u001b[0m\u001b[0;34m)\u001b[0m\u001b[0;34m)\u001b[0m\u001b[0;34m:\u001b[0m\u001b[0;34m\u001b[0m\u001b[0;34m\u001b[0m\u001b[0m\n\u001b[1;32m   1219\u001b[0m                 raise ValueError(\n\u001b[0;32m-> 1220\u001b[0;31m                     \u001b[0;34m'All values are expected to fall into one of the provided '\u001b[0m\u001b[0;34m\u001b[0m\u001b[0;34m\u001b[0m\u001b[0m\n\u001b[0m\u001b[1;32m   1221\u001b[0m                     \u001b[0;34m'bins (or to be Nan). Please check the `bins` parameter '\u001b[0m\u001b[0;34m\u001b[0m\u001b[0;34m\u001b[0m\u001b[0m\n\u001b[1;32m   1222\u001b[0m                     'and/or your data.')\n",
      "\u001b[0;31mValueError\u001b[0m: All values are expected to fall into one of the provided bins (or to be Nan). Please check the `bins` parameter and/or your data."
     ]
    }
   ],
   "source": [
    "# create a map\n",
    "m = folium.Map(location=[51.509865, -0.118092], tiles='cartodbpositron', zoom_start=10)\n",
    "\n",
    "# create choropleth (Map1: Deprivation Index in London)\n",
    "cp1 = folium.Choropleth(\n",
    "    geo_data = depriv_df,\n",
    "    name = \"Deprivation Index in London\",\n",
    "    data = depriv_df,\n",
    "    columns=[\"msoaname\", \"perc_depr_households\"],\n",
    "    key_on=\"feature.properties.msoaname\",\n",
    "    fill_color=\"Blues\",\n",
    "    fill_opacity=1.0,\n",
    "    line_opacity=0.2,\n",
    "    legend_name=\"Deprivation Index\",\n",
    "    bins = bins_map1,\n",
    "    reset = True\n",
    ")\n",
    "\n",
    "folium.GeoJsonTooltip([\"msoaname\", \"perc_depr_households\"]).add_to(cp1.geojson)\n",
    "\n",
    "# create choropleth (Map2: Percentage of 60+ adults on pension credits in London)\n",
    "cp2 = folium.Choropleth(\n",
    "    geo_data = depriv_df,\n",
    "    name = \"Percentage of 60+ adults on pension credits in London\",\n",
    "    data = depriv_df,\n",
    "    columns=[\"msoaname\", \"perc_pensioncredit\"],\n",
    "    key_on=\"feature.properties.msoaname\",\n",
    "    fill_color=\"Reds\",\n",
    "    fill_opacity=1.0,\n",
    "    line_opacity=0.2,\n",
    "    legend_name=\"Percentage of 60+ adults on pension credits (%)\",\n",
    "    bins = bins_map2,\n",
    "    reset = True\n",
    ")\n",
    "\n",
    "folium.GeoJsonTooltip([\"msoaname\", \"perc_pensioncredit\"]).add_to(cp2.geojson)\n",
    "\n",
    "# create choropleth (Map3: Population density in London)\n",
    "cp3 = folium.Choropleth(\n",
    "    geo_data = depriv_df,\n",
    "    name = \"Population density in London\",\n",
    "    data = depriv_df,\n",
    "    columns=[\"msoaname\", \"pop_density\"],\n",
    "    key_on=\"feature.properties.msoaname\",\n",
    "    fill_color=\"Greens\",\n",
    "    fill_opacity=1.0,\n",
    "    line_opacity=0.2,\n",
    "    legend_name=\"Population Density (k-people / km\\u00b2)\",\n",
    "    bins = bins_map3,\n",
    "    reset = True\n",
    ")\n",
    "\n",
    "# attach popups for each MSOA\n",
    "folium.GeoJsonTooltip([\"msoaname\", \"pop_density\"]).add_to(cp3.geojson)\n",
    "\n",
    "# add choropleth layers to the map (cp1 on the top)\n",
    "cp3.add_to(m)\n",
    "cp2.add_to(m)\n",
    "cp1.add_to(m)\n",
    "\n",
    "# add layer control on the map\n",
    "folium.LayerControl().add_to(m)\n",
    "\n",
    "m"
   ]
  },
  {
   "cell_type": "code",
   "execution_count": null,
   "id": "d3e67a36",
   "metadata": {},
   "outputs": [],
   "source": [
    "# export the html file\n",
    "m.save(\"./output/index.html\")"
   ]
  }
 ],
 "metadata": {
  "kernelspec": {
   "display_name": "Python 3 (ipykernel)",
   "language": "python",
   "name": "python3"
  },
  "language_info": {
   "codemirror_mode": {
    "name": "ipython",
    "version": 3
   },
   "file_extension": ".py",
   "mimetype": "text/x-python",
   "name": "python",
   "nbconvert_exporter": "python",
   "pygments_lexer": "ipython3",
   "version": "3.9.12"
  }
 },
 "nbformat": 4,
 "nbformat_minor": 5
}
